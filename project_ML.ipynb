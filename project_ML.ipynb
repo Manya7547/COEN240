{
  "nbformat": 4,
  "nbformat_minor": 0,
  "metadata": {
    "colab": {
      "provenance": []
    },
    "kernelspec": {
      "name": "python3",
      "display_name": "Python 3"
    },
    "language_info": {
      "name": "python"
    }
  },
  "cells": [
    {
      "cell_type": "markdown",
      "source": [
        "### Steps To Run:\n",
        "\n",
        "\n",
        "1.   Change working directory in the \"Directories\" cell to match your current directory. PS: testing driectory is already set to \"\"/content/drive/MyDrive/COEN240/Testing\"\"\n",
        "2.   Run All the required cells\n",
        "3.   To try on test data, you can directly run the \"Tesing Data preparation\" and \"Model test\" Cells. The testing data should be named as \"1_0.jpeg\" and labels.txt should have entries like \"1 Name\". This is the same as dataset 2 that was released.\n",
        "4.   Data augmentaton and pre-processing does not have to be run since pre-processed data is already dumped to a pickle file.\n",
        "5.   You can see random pre-processed smaples by running \"See pre-processed training image\" cell\n",
        "6.   The \"Remove Augmented Data\" cell deleetd all the augmented data from the dataset folder in case you need to run augmentation again.\n",
        "\n",
        "\n",
        "\n"
      ],
      "metadata": {
        "id": "Gj8RoDvd7NRx"
      }
    },
    {
      "cell_type": "code",
      "source": [
        "#@title Mount Drive (Required)\n",
        "from google.colab import drive\n",
        "drive.mount('/content/drive')"
      ],
      "metadata": {
        "colab": {
          "base_uri": "https://localhost:8080/"
        },
        "id": "m-kZctT9WTsy",
        "outputId": "3d66a0fa-b313-4ef8-dfa1-8a3aff8d7d68"
      },
      "execution_count": null,
      "outputs": [
        {
          "output_type": "stream",
          "name": "stdout",
          "text": [
            "Mounted at /content/drive\n"
          ]
        }
      ]
    },
    {
      "cell_type": "code",
      "source": [
        "#@title Directories (Required)\n",
        "import os\n",
        "# Set current directy here\n",
        "cwd = \"/content/drive/Shareddrives/COEN-240 Group 9 Project Code + Slides\"\n",
        "\n",
        "# Define the relative paths\n",
        "train_dir = os.path.join(cwd, \"face_data/all_data\")\n",
        "face_train_pickle = os.path.join(cwd, \"face_train.pickle\")\n",
        "model_svm_rbf = os.path.join(cwd, \"model_svm_rbf.pkl\")\n",
        "model_pca = os.path.join(cwd, \"model_pca.pkl\")\n",
        "model_lda = os.path.join(cwd, \"model_lda.pkl\")\n",
        "model_scalar_standard = os.path.join(cwd, \"model_scalar_standard.pkl\")\n",
        "\n",
        "#Setting test Dir to one specified\n",
        "test_dir = os.path.join(cwd, \"face_data/test_final\")\n"
      ],
      "metadata": {
        "id": "IaBNL_NBlUQB"
      },
      "execution_count": null,
      "outputs": []
    },
    {
      "cell_type": "code",
      "source": [
        "#@title Data Pre-processing methods (Required)\n",
        "def pre_process(image):\n",
        "\n",
        "    # Convert the image to grayscale\n",
        "    gray = cv2.cvtColor(image, cv2.COLOR_BGR2GRAY)\n",
        "\n",
        "    # Perform face detection\n",
        "    face_cascade = cv2.CascadeClassifier(cv2.data.haarcascades + 'haarcascade_frontalface_default.xml')\n",
        "    faces = face_cascade.detectMultiScale(gray, scaleFactor=1.1, minNeighbors=5, minSize=(30, 30))\n",
        "\n",
        "    for (x, y, w, h) in faces:\n",
        "\n",
        "        face = gray[y:y+h, x:x+w]\n",
        "\n",
        "        # Apply histogram equalization\n",
        "        face = cv2.equalizeHist(face)\n",
        "\n",
        "        # Resize the face image to a fixed size\n",
        "        face = cv2.resize(face, (50, 50))\n",
        "        # Normalize the pixel values to [0, 1]\n",
        "        face = face.astype(np.float32) / 255.0\n",
        "        face = face.flatten()\n",
        "        return face\n",
        "\n",
        "def flipped_image(image,imgpath):\n",
        "     # Perform the horizontal flip\n",
        "    flipped_image = np.fliplr(image)\n",
        "    cv2.imwrite(str(imgpath+\"_flipped_image.jpg\"), flipped_image)\n",
        "\n",
        "def rotate_image(image, angle):\n",
        "    # Get the dimensions of the image\n",
        "    (h, w) = image.shape[:2]\n",
        "    # Compute the center of the image\n",
        "    center = (w / 2, h / 2)\n",
        "    # Perform the rotation\n",
        "    M = cv2.getRotationMatrix2D(center, angle, 1.0)\n",
        "    rotated_image = cv2.warpAffine(image, M, (w, h))\n",
        "    cv2.imwrite(str(imgpath+\"_rotated_image.jpg\"), rotated_image)\n",
        "\n",
        "def scale_image(image, scale):\n",
        "    # Perform the scaling\n",
        "    scaled_image = cv2.resize(image, None, fx=scale, fy=scale, interpolation=cv2.INTER_LINEAR)\n",
        "    cv2.imwrite(str(imgpath+\"_scaled_image.jpg\"), scaled_image)\n",
        "\n",
        "def translate_image(image, x, y):\n",
        "    # Get the dimensions of the image\n",
        "    (h, w) = image.shape[:2]\n",
        "    # Compute the translation matrix\n",
        "    M = np.float32([[1, 0, x], [0, 1, y]])\n",
        "    # Perform the translation\n",
        "    translated_image = cv2.warpAffine(image, M, (w, h))\n",
        "    cv2.imwrite(str(imgpath+\"_translated_image.jpg\"), translated_image)\n",
        "\n",
        "def adjust_brightness(image, value):\n",
        "    # Convert the image to HSV\n",
        "    hsv = cv2.cvtColor(image, cv2.COLOR_BGR2HSV)\n",
        "    # Adjust the brightness\n",
        "    hsv[:,:,2] += value\n",
        "    # Convert the image back to BGR\n",
        "    bright_image = cv2.cvtColor(hsv, cv2.COLOR_HSV2BGR)\n",
        "    cv2.imwrite(str(imgpath+\"_bright_image.jpg\"), bright_image)"
      ],
      "metadata": {
        "id": "2jKiiGmu_FCA"
      },
      "execution_count": null,
      "outputs": []
    },
    {
      "cell_type": "code",
      "source": [
        "#@title Remove Augmented Data (Required before running augmentation cell)\n",
        "import os\n",
        "import glob\n",
        "\n",
        "# Load the image\n",
        "dir = train_dir\n",
        "categories = os.listdir(dir)\n",
        "if '.DS_Store' in categories:\n",
        "  categories.remove('.DS_Store')\n",
        "\n",
        "# List of suffixes used for augmented images\n",
        "suffixes = [\"_flipped_image.jpg\", \"_rotated_image.jpg\", \"_scaled_image.jpg\", \"_translated_image.jpg\", \"_bright_image.jpg\"]\n",
        "\n",
        "for category in categories:\n",
        "    path = os.path.join(dir, category)\n",
        "    try:\n",
        "        for suffix in suffixes:\n",
        "            # Find all augmented images\n",
        "            augmented_images = glob.glob(os.path.join(path, \"*\"+suffix))\n",
        "            for imgpath in augmented_images:\n",
        "                # Remove the image\n",
        "                os.remove(imgpath)\n",
        "                print(f\"Removed {imgpath}\")\n",
        "    except Exception as e:\n",
        "        print(e)\n"
      ],
      "metadata": {
        "id": "JrAeJMfynGHe"
      },
      "execution_count": null,
      "outputs": []
    },
    {
      "cell_type": "code",
      "source": [
        "#@title Data Augmentation (~3 minutes)\n",
        "import os\n",
        "import numpy as np\n",
        "import cv2\n",
        "import pickle\n",
        "import sys\n",
        "\n",
        "# Load the image\n",
        "dir = train_dir\n",
        "categories = os.listdir(dir)\n",
        "if '.DS_Store' in categories:\n",
        "  categories.remove('.DS_Store')\n",
        "\n",
        "for category in categories:\n",
        "        path = os.path.join(dir, category)\n",
        "        try:\n",
        "            for img in os.listdir(path):\n",
        "                imgpath = os. path.join(path, img)\n",
        "                image = cv2.imread(imgpath)\n",
        "                if image is not None:\n",
        "                    flipped_image(image,imgpath)\n",
        "                    rotate_image(image, 45)  # Rotate by 45 degrees\n",
        "                    scale_image(image, 1.2)  # Scale up by 20%\n",
        "                    translate_image(image, 10, 10)  # Translate by 10 pixels in both directions\n",
        "                    adjust_brightness(image, 50)  # Increase brightness by 50\n",
        "\n",
        "        except Exception as e:\n",
        "            print(e)\n"
      ],
      "metadata": {
        "id": "64a2LqOweOZc"
      },
      "execution_count": null,
      "outputs": []
    },
    {
      "cell_type": "code",
      "source": [
        "#@title Training Data Preparation (~3 Minutes)\n",
        "import os\n",
        "import numpy as np\n",
        "import cv2\n",
        "import pickle\n",
        "import sys\n",
        "\n",
        "#Add directories to our photos\n",
        "dir = train_dir\n",
        "\n",
        "categories = os.listdir(dir)\n",
        "if '.DS_Store' in categories:\n",
        "  categories.remove('.DS_Store')\n",
        "data_train = []\n",
        "data_test = []\n",
        "\n",
        "data = []\n",
        "\n",
        "for category in categories:\n",
        "        path = os.path.join(dir, category)\n",
        "        try :\n",
        "            label = categories.index(category)\n",
        "            for img in os.listdir(path):\n",
        "                imgpath = os. path.join(path, img)\n",
        "                image = cv2.imread(imgpath)\n",
        "                if image is not None:\n",
        "                    image_pre = pre_process(image)\n",
        "                    if image_pre is not None:\n",
        "                        data_train.append([image_pre,\"\".join(category.split())])\n",
        "        except Exception as e:\n",
        "            print(e)\n",
        "\n",
        "print(\"Number of images in Training Data:\", len(data_train))\n",
        "\n",
        "pick_in = open('/content/drive/Shareddrives/COEN 240 - Machine Learning Group Project/face_train.pickle', 'wb')\n",
        "pickle.dump(data_train, pick_in)\n",
        "pick_in.close()"
      ],
      "metadata": {
        "id": "W2B4GIDYwiL6",
        "colab": {
          "base_uri": "https://localhost:8080/"
        },
        "outputId": "85e4fab4-2010-419b-eb09-d8dca3c4cece"
      },
      "execution_count": null,
      "outputs": [
        {
          "output_type": "stream",
          "name": "stdout",
          "text": [
            "Number of images in Training Data: 1011\n"
          ]
        }
      ]
    },
    {
      "cell_type": "code",
      "source": [
        "#@title See pre-processed training image\n",
        "import matplotlib.pyplot as plt\n",
        "import pickle\n",
        "import numpy as np\n",
        "\n",
        "# Load the training data\n",
        "pick_in = open(face_train_pickle, 'rb')\n",
        "data_train = pickle.load(pick_in)\n",
        "pick_in.close()\n",
        "\n",
        "# Check if there is any data\n",
        "if len(data_train) > 0:\n",
        "    # Get 5 random indices from the training data\n",
        "    random_indices = np.random.choice(len(data_train), 5, replace=False)\n",
        "    for i in random_indices:\n",
        "        # Get the image and label from the training data\n",
        "        image, label = data_train[i]\n",
        "\n",
        "        # Reshape the image back to its original shape\n",
        "        reshaped_image = image.reshape(50, 50)\n",
        "\n",
        "        # Display the image\n",
        "        plt.imshow(reshaped_image, cmap='gray')\n",
        "        plt.axis('off')\n",
        "        plt.show()\n",
        "else:\n",
        "    print(\"No training data available.\")\n"
      ],
      "metadata": {
        "id": "U0kGg_OgITAb",
        "cellView": "form",
        "colab": {
          "base_uri": "https://localhost:8080/",
          "height": 1000
        },
        "outputId": "f6cb4832-c72c-4302-d358-d3acdb460dbf"
      },
      "execution_count": null,
      "outputs": [
        {
          "output_type": "display_data",
          "data": {
            "text/plain": [
              "<Figure size 640x480 with 1 Axes>"
            ],
            "image/png": "[encoded data removed]"
          },
          "metadata": {}
        },
        {
          "output_type": "display_data",
          "data": {
            "text/plain": [
              "<Figure size 640x480 with 1 Axes>"
            ],
            "image/png": "[encoded data removed]"
          },
          "metadata": {}
        },
        {
          "output_type": "display_data",
          "data": {
            "text/plain": [
              "<Figure size 640x480 with 1 Axes>"
            ],
            "image/png": "[encoded data removed]"
          },
          "metadata": {}
        },
        {
          "output_type": "display_data",
          "data": {
            "text/plain": [
              "<Figure size 640x480 with 1 Axes>"
            ],
            "image/png": "[encoded data removed]"
          },
          "metadata": {}
        },
        {
          "output_type": "display_data",
          "data": {
            "text/plain": [
              "<Figure size 640x480 with 1 Axes>"
            ],
            "image/png": "[encoded data removed]"
          },
          "metadata": {}
        }
      ]
    },
    {
      "cell_type": "code",
      "execution_count": null,
      "metadata": {
        "id": "IvM9nBp7vxn2",
        "colab": {
          "base_uri": "https://localhost:8080/"
        },
        "outputId": "d5d12196-d847-48c2-8144-c94095a17eaf",
        "cellView": "form"
      },
      "outputs": [
        {
          "output_type": "stream",
          "name": "stdout",
          "text": [
            "Variance explained: 86.93708002872643\n",
            "Validation Accuracy: 0.931\n",
            "Validation F1 Score: 0.9313725490196079\n",
            "Validation Recall: 0.9313725490196079\n"
          ]
        }
      ],
      "source": [
        "#@title Model Train + Validation\n",
        "import pickle\n",
        "import numpy as np\n",
        "import pandas as pd\n",
        "import random\n",
        "import os\n",
        "import sklearn\n",
        "from sklearn.model_selection import train_test_split\n",
        "from sklearn.svm import SVC\n",
        "from sklearn.metrics import accuracy_score, f1_score, recall_score, classification_report\n",
        "from sklearn.preprocessing import StandardScaler, MinMaxScaler\n",
        "from sklearn.decomposition import PCA\n",
        "from sklearn.pipeline import make_pipeline\n",
        "from sklearn.discriminant_analysis import LinearDiscriminantAnalysis as LDA\n",
        "from sklearn.neighbors import KNeighborsClassifier\n",
        "\n",
        "pick_in = open(face_train_pickle, 'rb')\n",
        "data_train = pickle.load(pick_in)\n",
        "pick_in.close()\n",
        "\n",
        "xtrain = []\n",
        "ytrain = []\n",
        "feature =[]\n",
        "labels = []\n",
        "\n",
        "\n",
        "for i in data_train:\n",
        "\n",
        "    xtrain.append(i[0])\n",
        "    ytrain.append(i[1])\n",
        "\n",
        "# Split your training data into a training set and a validation set\n",
        "xtrain, xval, ytrain, yval = train_test_split(xtrain, ytrain, test_size=0.1, random_state=42)\n",
        "\n",
        "# For dimensionality reduction\n",
        "pca = PCA(n_components=120)\n",
        "xtrain = pca.fit_transform(xtrain)\n",
        "xval = pca.transform(xval)  # transform validation data\n",
        "\n",
        "# LDA\n",
        "lda = LDA(n_components=25)\n",
        "xtrain = lda.fit_transform(xtrain, ytrain)\n",
        "xval = lda.transform(xval)  # transform validation data\n",
        "\n",
        "# Scaling Data\n",
        "scaler = StandardScaler()\n",
        "xtrain = scaler.fit_transform(xtrain)\n",
        "xval = scaler.transform(xval)  # scale validation data\n",
        "\n",
        "exp_var = sum(pca.explained_variance_ratio_ * 100)\n",
        "print('Variance explained:', exp_var)\n",
        "\n",
        "# Define the model\n",
        "model = SVC(C=10, gamma=0.001,kernel='rbf',class_weight='balanced')\n",
        "#model = KNeighborsClassifier(n_neighbors=2)\n",
        "\n",
        "# Train the model on the training set\n",
        "model.fit(xtrain, ytrain)\n",
        "\n",
        "# Evaluate the model on the validation set\n",
        "y_pred_val = model.predict(xval)\n",
        "print('Validation Accuracy: %.3f' % accuracy_score(yval, y_pred_val))\n",
        "\n",
        "# Calculate F1 score on validation set\n",
        "f1_val = f1_score(yval, y_pred_val,average='micro')\n",
        "print('Validation F1 Score:', f1_val)\n",
        "\n",
        "# Calculate recall on validation set\n",
        "recall_val = recall_score(yval, y_pred_val,average='micro')\n",
        "print('Validation Recall:', recall_val)\n",
        "\n",
        "# Save the model\n",
        "with open(model_svm_rbf, 'wb') as f:\n",
        "    pickle.dump(model, f)\n",
        "\n",
        "# Save the PCA transformer\n",
        "with open(model_pca, 'wb') as f:\n",
        "    pickle.dump(pca, f)\n",
        "\n",
        "# Save the PCA transformer\n",
        "with open(model_lda, 'wb') as f:\n",
        "    pickle.dump(lda, f)\n",
        "\n",
        "# Save the standard scaler\n",
        "with open(model_scalar_standard, 'wb') as f:\n",
        "    pickle.dump(scaler, f)"
      ]
    },
    {
      "cell_type": "code",
      "source": [
        "#@title Tesing Data preparation (~10 sec for dataset with 126 images)\n",
        "import pandas as pd\n",
        "import os\n",
        "import numpy as np\n",
        "import cv2\n",
        "import pickle\n",
        "import sys\n",
        "\n",
        "labels_df = pd.read_csv(test_dir+ '/labels.txt', sep='\\t', header=None)\n",
        "labels_dict = dict(zip(labels_df[0], labels_df[1]))\n",
        "data_test_new = []\n",
        "for img in os.listdir(test_dir):\n",
        "    imgpath = os.path.join(test_dir, img)\n",
        "    image = cv2.imread(imgpath)\n",
        "    if image is not None:\n",
        "        # Extract the image number from the filename\n",
        "        # Get the label from the dictionary\n",
        "        label = labels_dict[img]\n",
        "        image_pre = pre_process(image)\n",
        "        if image_pre is not None:\n",
        "            data_test_new.append([image_pre, label])\n",
        "print(\"Number of images in Training Data:\", len(data_test_new))"
      ],
      "metadata": {
        "id": "OPRzq0-hxDMp",
        "colab": {
          "base_uri": "https://localhost:8080/"
        },
        "outputId": "305ab043-9453-4e7a-9c74-5d86a9e0370e"
      },
      "execution_count": null,
      "outputs": [
        {
          "output_type": "stream",
          "name": "stdout",
          "text": [
            "Number of images in Training Data: 112\n"
          ]
        }
      ]
    },
    {
      "cell_type": "code",
      "source": [
        "#@title Model Test\n",
        "import pickle\n",
        "from sklearn.metrics import accuracy_score, f1_score, recall_score\n",
        "import matplotlib.pyplot as plt\n",
        "\n",
        "xtest = []\n",
        "ytest = []\n",
        "\n",
        "for i in data_test_new:\n",
        "\n",
        "    xtest.append(i[0])\n",
        "    ytest.append(i[1])\n",
        "\n",
        "# Load the trained model\n",
        "with open(model_svm_rbf, 'rb') as f:\n",
        "    model = pickle.load(f)\n",
        "\n",
        "# Load the PCA transformer\n",
        "with open(model_pca, 'rb') as f:\n",
        "    pca = pickle.load(f)\n",
        "\n",
        "# Load the LDA transformer\n",
        "with open(model_lda, 'rb') as f:\n",
        "    lda = pickle.load(f)\n",
        "\n",
        "# Load the standard scaler\n",
        "with open(model_scalar_standard, 'rb') as f:\n",
        "    scaler = pickle.load(f)\n",
        "\n",
        "# Transform and scale the test data\n",
        "xtest = pca.transform(xtest)\n",
        "xtest = lda.transform(xtest)\n",
        "xtest = scaler.transform(xtest)\n",
        "\n",
        "# Finally, evaluate the model on the test set\n",
        "y_pred = model.predict(xtest)\n",
        "print('Test Accuracy: %.3f' % accuracy_score(ytest, y_pred))\n",
        "\n",
        "# Calculate F1 score on test set\n",
        "f1 = f1_score(ytest, y_pred,average='micro')\n",
        "print('Test F1 Score:', f1)\n",
        "\n",
        "# Calculate recall on test set\n",
        "recall = recall_score(ytest, y_pred,average='micro')\n",
        "print('Test Recall:', recall)\n",
        "\n",
        "### Un-commnt this to see predicted images from test data\n",
        "# for i in range(len(data_test_new)):\n",
        "#   if(y_pred[i] == 'Husain'):\n",
        "#     # Get the first image from the training data\n",
        "#     image, label = data_test_unprocessed[i]\n",
        "\n",
        "#     # Display the image\n",
        "#     plt.imshow(image, cmap='gray')\n",
        "#     plt.title('Predicted: ' + y_pred[i] + '\\n' + 'Actually is: ' + label)\n",
        "#     plt.axis('off')\n",
        "#     plt.show()"
      ],
      "metadata": {
        "colab": {
          "base_uri": "https://localhost:8080/"
        },
        "id": "yDARySaXFnG3",
        "outputId": "7526b457-423c-4402-82ef-d9c17a0b969d",
        "cellView": "form"
      },
      "execution_count": null,
      "outputs": [
        {
          "output_type": "stream",
          "name": "stdout",
          "text": [
            "Test Accuracy: 0.670\n",
            "Test F1 Score: 0.6696428571428571\n",
            "Test Recall: 0.6696428571428571\n"
          ]
        }
      ]
    }
  ]
}